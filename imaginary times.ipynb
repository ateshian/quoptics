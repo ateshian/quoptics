{
 "cells": [
  {
   "cell_type": "code",
   "execution_count": 11,
   "metadata": {},
   "outputs": [],
   "source": [
    "import numpy as np\n",
    "doff = 2*np.pi*(-463)\n",
    "oq = 1000\n",
    "t2 = np.pi/oq"
   ]
  },
  {
   "cell_type": "code",
   "execution_count": 12,
   "metadata": {},
   "outputs": [
    {
     "name": "stdout",
     "output_type": "stream",
     "text": [
      "0.435712487049 0.556915279580164j 0.707106781187\n"
     ]
    }
   ],
   "source": [
    "# Matches Saeed\n",
    "g1 = 1/np.sqrt(2)*np.cos(np.pi/(2*np.sqrt(3)))\n",
    "e0 = 1j/np.sqrt(2)*np.sin(np.pi/(2*np.sqrt(3)))\n",
    "e2 = 1/np.sqrt(2)\n",
    "print(g1,e0,e2)"
   ]
  },
  {
   "cell_type": "code",
   "execution_count": 26,
   "metadata": {},
   "outputs": [
    {
     "name": "stdout",
     "output_type": "stream",
     "text": [
      "Saeed correct answers \n",
      "e1: (0.431279888636-0.0619921690873j) \n",
      "g0: (0.0792366232442-0.551249658655j) \n",
      "g2: (0.699913229271+0.100605524159j)\n"
     ]
    }
   ],
   "source": [
    "# Saeed's answers\n",
    "tp = np.pi/1000\n",
    "arg4 = 1j*doff*tp/2\n",
    "g0a = -np.exp(arg4)*e0/1j\n",
    "\n",
    "g2a = np.exp(arg4)*(-1j*e2)\n",
    "\n",
    "e1a = np.exp(-arg4)*(1j*g1)\n",
    "print('Saeed correct answers', '\\ne1:',e1a,'\\ng0:',g0a,'\\ng2:',g2a)"
   ]
  },
  {
   "cell_type": "code",
   "execution_count": 37,
   "metadata": {},
   "outputs": [
    {
     "name": "stdout",
     "output_type": "stream",
     "text": [
      "my answers \n",
      "e1_1 (-0.431279888636-0.0619921690873j) \n",
      "g0_1 (0.0792366232442+0.551249658655j) \n",
      "g2_1 (0.699913229271-0.100605524159j)\n"
     ]
    }
   ],
   "source": [
    "# Does not match Saeed\n",
    "arg = doff*t2/2\n",
    "e1_1 = (1/np.sqrt(2))*np.cos(np.pi/(2*np.sqrt(3)))*(\n",
    "    1j*np.cos(arg) - np.sin(arg))\n",
    "\n",
    "g0_1 = (1/np.sqrt(2))*np.sin(np.pi/(2*np.sqrt(3)))*(\n",
    "    -np.cos(arg) + 1j*np.sin(arg))\n",
    "\n",
    "g2_1 = (1/np.sqrt(2))*(1j*np.cos(doff*t2/2) + np.sin(doff*t2/2))\n",
    "\n",
    "print('my answers','\\ne1_1',e1_1,'\\ng0_1', g0_1, '\\ng2_1',g2_1)"
   ]
  },
  {
   "cell_type": "code",
   "execution_count": 31,
   "metadata": {},
   "outputs": [
    {
     "name": "stdout",
     "output_type": "stream",
     "text": [
      "(1.55717120084+0.457099785392j)\n"
     ]
    }
   ],
   "source": [
    "g2q = -g2_1/e1_1\n",
    "print(g2q)"
   ]
  },
  {
   "cell_type": "code",
   "execution_count": 32,
   "metadata": {},
   "outputs": [
    {
     "name": "stdout",
     "output_type": "stream",
     "text": [
      "g2q_ang: 0.285524285361 \n",
      "g2q_mag: 1.62287472176\n"
     ]
    }
   ],
   "source": [
    "g2q_ang = np.angle(g2q)\n",
    "g2q_mag = np.absolute(g2q)\n",
    "\n",
    "print('g2q_ang:', g2q_ang, '\\ng2q_mag:', g2q_mag)"
   ]
  },
  {
   "cell_type": "code",
   "execution_count": 33,
   "metadata": {},
   "outputs": [
    {
     "name": "stdout",
     "output_type": "stream",
     "text": [
      "t4omg: 1.44045715544\n"
     ]
    }
   ],
   "source": [
    "t4omg = np.arctan(g2q_mag)*np.sqrt(2)\n",
    "print('t4omg:',t4omg)"
   ]
  },
  {
   "cell_type": "code",
   "execution_count": 34,
   "metadata": {},
   "outputs": [
    {
     "name": "stdout",
     "output_type": "stream",
     "text": [
      "t3: -9.81481671445e-05\n"
     ]
    }
   ],
   "source": [
    "t3 = g2q_ang/doff\n",
    "print('t3:',t3)"
   ]
  },
  {
   "cell_type": "code",
   "execution_count": 35,
   "metadata": {},
   "outputs": [
    {
     "name": "stdout",
     "output_type": "stream",
     "text": [
      "e1_2: (-0.358305732832-0.233938606747j) \n",
      "g0_2: (1.45604355949e-17-0.292154959148j) \n",
      "g2_2: (5.55111512313e-17-0.208960957088j)\n"
     ]
    }
   ],
   "source": [
    "arg2 = 1j*doff*t3/2\n",
    "arg3 = t4omg*np.sqrt(2)/2\n",
    "\n",
    "e1_2 = (np.exp(-arg2)*(e1_1)*np.cos(arg3) \n",
    "        + np.exp(arg2)*(g2_1)*np.sin(arg3))\n",
    "\n",
    "g0_2 = np.exp(-arg2)*(g0_1)*np.cos(arg3)\n",
    "\n",
    "g2_2 = (np.exp(arg2)*(g2_1)*(np.cos(arg3))\n",
    "        + np.exp(-arg2)*(e1_1)*(np.sin(arg3)))\n",
    "\n",
    "print('e1_2:',e1_2,'\\ng0_2:',g0_2,'\\ng2_2:',g2_2)"
   ]
  },
  {
   "cell_type": "code",
   "execution_count": 36,
   "metadata": {},
   "outputs": [
    {
     "name": "stdout",
     "output_type": "stream",
     "text": [
      "e1s2: (0.796942971387+0.105178848346j) \n",
      "g0s2: (1.45604355949e-17-0.292154959148j) \n",
      "g2s2: (0.711853286473-1.38777878078e-17j)\n"
     ]
    }
   ],
   "source": [
    "arg2 = 1j*doff*t3/2\n",
    "arg3 = t4omg*np.sqrt(2)/2\n",
    "\n",
    "e1_2 = (np.exp(-arg2)*(e1a)*np.cos(arg3) \n",
    "        + np.exp(arg2)*(g2a)*np.sin(arg3))\n",
    "\n",
    "g0_2 = np.exp(-arg2)*(g0a)*np.cos(arg3)\n",
    "\n",
    "g2_2 = (np.exp(arg2)*(g2a)*(np.cos(arg3))\n",
    "        + np.exp(-arg2)*(e1a)*(np.sin(arg3)))\n",
    "\n",
    "print('e1s2:',e1_2,'\\ng0s2:',g0_2,'\\ng2s2:',g2_2)"
   ]
  },
  {
   "cell_type": "code",
   "execution_count": null,
   "metadata": {},
   "outputs": [],
   "source": []
  }
 ],
 "metadata": {
  "kernelspec": {
   "display_name": "Python 3",
   "language": "python",
   "name": "python3"
  },
  "language_info": {
   "codemirror_mode": {
    "name": "ipython",
    "version": 3
   },
   "file_extension": ".py",
   "mimetype": "text/x-python",
   "name": "python",
   "nbconvert_exporter": "python",
   "pygments_lexer": "ipython3",
   "version": "3.6.5"
  }
 },
 "nbformat": 4,
 "nbformat_minor": 2
}
