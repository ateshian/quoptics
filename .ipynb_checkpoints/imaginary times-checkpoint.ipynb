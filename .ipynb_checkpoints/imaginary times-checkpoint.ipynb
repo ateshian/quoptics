{
 "cells": [
  {
   "cell_type": "code",
   "execution_count": 2,
   "metadata": {},
   "outputs": [],
   "source": [
    "import numpy as np\n",
    "doff = 2*np.pi*(-463)\n",
    "oq = 1000\n",
    "t2 = np.pi/oq"
   ]
  },
  {
   "cell_type": "code",
   "execution_count": 6,
   "metadata": {},
   "outputs": [
    {
     "name": "stdout",
     "output_type": "stream",
     "text": [
      "[0 1]\n",
      "[1 0]\n"
     ]
    }
   ],
   "source": [
    "#operators\n",
    "plus = [[0,0],[1,0]]\n",
    "minus = [[0,1],[0,0]]\n",
    "nm = [[0,-1],[0,0]]\n",
    "\n",
    "x = [[0,1],[1,0]]\n",
    "y = [[0,-1j],[1j,0]]\n",
    "z = [[1,0],[0,-1]]\n",
    "\n",
    "g = [0,1]\n",
    "e = [1,0]\n",
    "\n",
    "xg = np.matmul(x,g)\n",
    "yg = np.matmul(y,g)\n",
    "zg = np.matmul(z,g)\n",
    "plusg = np.matmul(plus,g)\n",
    "minusg = np.matmul(minus,g)\n",
    "\n",
    "xe = np.matmul(x,e)\n",
    "ye = np.matmul(y,e)\n",
    "ze = np.matmul(z,e)\n",
    "pluse = np.matmul(plus,e)\n",
    "minuse = np.matmul(minus,e)"
   ]
  },
  {
   "cell_type": "code",
   "execution_count": 23,
   "metadata": {},
   "outputs": [
    {
     "name": "stdout",
     "output_type": "stream",
     "text": [
      "0.435712487049 0.556915279580164j 0.707106781187\n"
     ]
    }
   ],
   "source": [
    "# Matches Saeed\n",
    "g1 = 1/np.sqrt(2)*np.cos(np.pi/(2*np.sqrt(3)))\n",
    "e0 = 1j/np.sqrt(2)*np.sin(np.pi/(2*np.sqrt(3)))\n",
    "e2 = 1/np.sqrt(2)\n",
    "print(g1,e0,e2)"
   ]
  },
  {
   "cell_type": "code",
   "execution_count": 50,
   "metadata": {},
   "outputs": [
    {
     "name": "stdout",
     "output_type": "stream",
     "text": [
      "Saeed correct answers \n",
      "e1: (0.431279888636-0.0619921690873j) \n",
      "g0: (0.0792366232442-0.551249658655j) \n",
      "g2: (0.699913229271+0.100605524159j)\n"
     ]
    }
   ],
   "source": [
    "# Saeed's answers\n",
    "tp = np.pi/1000\n",
    "arg4 = 1j*doff*tp/2\n",
    "g0a = -np.exp(arg4)*e0/1j\n",
    "\n",
    "g2a = np.exp(arg4)*(-1j*e2)\n",
    "\n",
    "e1a = np.exp(-arg4)*(1j*g1)\n",
    "print('Saeed correct answers', '\\ne1:',e1a,'\\ng0:',g0a,'\\ng2:',g2a)"
   ]
  },
  {
   "cell_type": "code",
   "execution_count": 7,
   "metadata": {},
   "outputs": [
    {
     "name": "stdout",
     "output_type": "stream",
     "text": [
      "my answers \n",
      "e1_1 (-0.431279888636-0.0619921690873j) \n",
      "g0_1 (0.07923662324415803+0.5512496586545116j) \n",
      "g2_1 (0.699913229271-0.100605524159j)\n"
     ]
    }
   ],
   "source": [
    "# Does not match Saeed\n",
    "arg = doff*t2/2\n",
    "e1_1 = (1/np.sqrt(2))*np.cos(np.pi/(2*np.sqrt(3)))*(\n",
    "    1j*np.cos(arg) - np.sin(arg))\n",
    "\n",
    "g0_1 = 1j*(1/np.sqrt(2))*np.sin(np.pi/(2*np.sqrt(3)))*(\n",
    "    1j*np.cos(arg) + np.sin(arg))\n",
    "\n",
    "g2_1 = (1/np.sqrt(2))*(1j*np.cos(doff*t2/2) + np.sin(doff*t2/2))\n",
    "\n",
    "print('my answers','\\ne1_1',e1_1,'\\ng0_1', g0_1, '\\ng2_1',g2_1)"
   ]
  },
  {
   "cell_type": "code",
   "execution_count": 8,
   "metadata": {},
   "outputs": [
    {
     "name": "stdout",
     "output_type": "stream",
     "text": [
      "(1.55717120084-0.457099785392j)\n"
     ]
    }
   ],
   "source": [
    "g2q = -g2_1/e1_1\n",
    "print(g2q)"
   ]
  },
  {
   "cell_type": "code",
   "execution_count": 9,
   "metadata": {},
   "outputs": [
    {
     "name": "stdout",
     "output_type": "stream",
     "text": [
      "g2q_ang: -0.285524285361 \n",
      "g2q_mag: 1.62287472176\n"
     ]
    }
   ],
   "source": [
    "g2q_ang = np.angle(g2q)\n",
    "g2q_mag = np.absolute(g2q)\n",
    "\n",
    "print('g2q_ang:', g2q_ang, '\\ng2q_mag:', g2q_mag)"
   ]
  },
  {
   "cell_type": "code",
   "execution_count": 10,
   "metadata": {},
   "outputs": [
    {
     "name": "stdout",
     "output_type": "stream",
     "text": [
      "t4omg: 1.44045715544\n"
     ]
    }
   ],
   "source": [
    "t4omg = np.arctan(g2q_mag)*np.sqrt(2)\n",
    "print('t4omg:',t4omg)"
   ]
  },
  {
   "cell_type": "code",
   "execution_count": 11,
   "metadata": {},
   "outputs": [
    {
     "name": "stdout",
     "output_type": "stream",
     "text": [
      "t3: 9.81481671445e-05\n"
     ]
    }
   ],
   "source": [
    "t3 = g2q_ang/doff\n",
    "print('t3:',t3)"
   ]
  },
  {
   "cell_type": "code",
   "execution_count": 12,
   "metadata": {},
   "outputs": [
    {
     "name": "stdout",
     "output_type": "stream",
     "text": [
      "e1_2: (0.358305732832-0.233938606747j) \n",
      "g0_2: (1.45604355949e-17+0.292154959148j) \n",
      "g2_2: (-5.55111512313e-17-0.208960957088j)\n"
     ]
    }
   ],
   "source": [
    "arg2 = 1j*doff*t3/2\n",
    "arg3 = t4omg*np.sqrt(2)/2\n",
    "\n",
    "e1_2 = (np.exp(-arg2)*(e1_1)*np.cos(arg3) \n",
    "        + np.exp(arg2)*(g2_1)*np.sin(arg3))\n",
    "\n",
    "g0_2 = np.exp(-arg2)*(g0_1)*np.cos(arg3)\n",
    "\n",
    "g2_2 = (np.exp(arg2)*(g2_1)*(np.cos(arg3))\n",
    "        + np.exp(-arg2)*(e1_1)*(np.sin(arg3)))\n",
    "\n",
    "print('e1_2:',e1_2,'\\ng0_2:',g0_2,'\\ng2_2:',g2_2)"
   ]
  },
  {
   "cell_type": "code",
   "execution_count": 38,
   "metadata": {},
   "outputs": [
    {
     "name": "stdout",
     "output_type": "stream",
     "text": [
      "g0: (0.0792366232442-0.551249658655j) \n",
      "g2: (0.699913229271+0.100605524159j) \n",
      "e1: (0.431279888636-0.0619921690873j)\n"
     ]
    }
   ],
   "source": []
  },
  {
   "cell_type": "code",
   "execution_count": null,
   "metadata": {},
   "outputs": [],
   "source": []
  }
 ],
 "metadata": {
  "kernelspec": {
   "display_name": "Python 3",
   "language": "python",
   "name": "python3"
  },
  "language_info": {
   "codemirror_mode": {
    "name": "ipython",
    "version": 3
   },
   "file_extension": ".py",
   "mimetype": "text/x-python",
   "name": "python",
   "nbconvert_exporter": "python",
   "pygments_lexer": "ipython3",
   "version": "3.6.5"
  }
 },
 "nbformat": 4,
 "nbformat_minor": 2
}
