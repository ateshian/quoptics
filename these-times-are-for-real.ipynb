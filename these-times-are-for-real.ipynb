{
 "cells": [
  {
   "cell_type": "code",
   "execution_count": 41,
   "metadata": {},
   "outputs": [],
   "source": [
    "import numpy as np\n",
    "doff = 2*np.pi*(-463)\n",
    "oq = 1000\n",
    "t2 = np.pi/oq\n",
    "t4 = np.pi/oq\n",
    "t1 = np.pi/oq"
   ]
  },
  {
   "cell_type": "code",
   "execution_count": 3,
   "metadata": {},
   "outputs": [
    {
     "name": "stdout",
     "output_type": "stream",
     "text": [
      "g1: 0.435712487049 \n",
      "e0: 0.556915279580164j \n",
      "e2: 0.707106781187\n"
     ]
    }
   ],
   "source": [
    "# Matches Saeed\n",
    "g1 = 1/np.sqrt(2)*np.cos(np.pi/(2*np.sqrt(3)))\n",
    "e0 = 1j/np.sqrt(2)*np.sin(np.pi/(2*np.sqrt(3)))\n",
    "e2 = 1/np.sqrt(2)\n",
    "print('g1:',g1,'\\ne0:',e0,'\\ne2:',e2)"
   ]
  },
  {
   "cell_type": "code",
   "execution_count": 10,
   "metadata": {},
   "outputs": [
    {
     "name": "stdout",
     "output_type": "stream",
     "text": [
      "t7: 0.0031415926535897933 \n",
      "t6: 0.003681549457045517 \n",
      "ot5: 1.44045715544\n"
     ]
    }
   ],
   "source": [
    "t7 = np.pi/oq\n",
    "t6 = t7 - np.pi/(2*doff)\n",
    "ot5 = np.arctan(e2/g1)*2/np.sqrt(2)\n",
    "print('t7:',t7,'\\nt6:',t6,'\\not5:',ot5)"
   ]
  },
  {
   "cell_type": "code",
   "execution_count": 11,
   "metadata": {},
   "outputs": [
    {
     "name": "stdout",
     "output_type": "stream",
     "text": [
      "cg2_t5: (2.22044604925e-16+5.55111512313e-17j)\n"
     ]
    }
   ],
   "source": [
    "cg2_t5 = (-e2*np.cos(ot5/np.sqrt(2))\n",
    "          *np.exp(1j*doff*t7)\n",
    "          +1j*g1*np.sin(ot5/np.sqrt(2))\n",
    "          *np.exp(1j*doff*t6))\n",
    "print('cg2_t5:',cg2_t5)"
   ]
  },
  {
   "cell_type": "code",
   "execution_count": 14,
   "metadata": {},
   "outputs": [
    {
     "name": "stdout",
     "output_type": "stream",
     "text": [
      "ce1_t5: (-0.796942971387-0.233938606747j)\n"
     ]
    }
   ],
   "source": [
    "ce1_t5 = (1j*g1*np.cos(ot5/np.sqrt(2))\n",
    "          *np.exp(1j*doff*t6)\n",
    "          + e2*np.sin(ot5/np.sqrt(2))\n",
    "          *np.exp(1j*doff*t7))\n",
    "print('ce1_t5:',ce1_t5)"
   ]
  },
  {
   "cell_type": "code",
   "execution_count": 24,
   "metadata": {},
   "outputs": [
    {
     "name": "stdout",
     "output_type": "stream",
     "text": [
      "cg0_t5: (0.534368071079+0.156861063497j)\n"
     ]
    }
   ],
   "source": [
    "cg0_t5 = -np.imag(e0)*np.exp(1j*doff*t7)\n",
    "print('cg0_t5:',cg0_t5)"
   ]
  },
  {
   "cell_type": "code",
   "execution_count": 34,
   "metadata": {},
   "outputs": [
    {
     "name": "stdout",
     "output_type": "stream",
     "text": [
      "coeff_st2_sw: 1.49137460586\n"
     ]
    }
   ],
   "source": [
    "coeff_st2_sw = 1j*ce1_t5/cg0_t5\n",
    "coeff_st2_sw = -np.imag(coeff_st2_sw)\n",
    "print('coeff_st2_sw:',coeff_st2_sw)"
   ]
  },
  {
   "cell_type": "code",
   "execution_count": 37,
   "metadata": {},
   "outputs": [
    {
     "name": "stdout",
     "output_type": "stream",
     "text": [
      "ot2: 1.96025830916\n"
     ]
    }
   ],
   "source": [
    "ot2 = np.arctan(coeff_st2_sw)*2\n",
    "print('ot2:',ot2)"
   ]
  },
  {
   "cell_type": "code",
   "execution_count": 36,
   "metadata": {},
   "outputs": [
    {
     "name": "stdout",
     "output_type": "stream",
     "text": [
      "t3: 0.003681549457045517\n"
     ]
    }
   ],
   "source": [
    "t3 = t4 - np.pi/(2*doff)\n",
    "print('t3:',t3)"
   ]
  },
  {
   "cell_type": "code",
   "execution_count": 38,
   "metadata": {},
   "outputs": [
    {
     "name": "stdout",
     "output_type": "stream",
     "text": [
      "cg1_t2: (1.11022302463e-16-1.11022302463e-16j)\n"
     ]
    }
   ],
   "source": [
    "cg1_t2 = (1j*ce1_t5*np.exp(1j*doff*t4)\n",
    "          *np.cos(ot2/2)\n",
    "          -cg0_t5*np.exp(1j*doff*t3)\n",
    "          *np.sin(ot2/2))\n",
    "print('cg1_t2:',cg1_t2)"
   ]
  },
  {
   "cell_type": "code",
   "execution_count": 40,
   "metadata": {},
   "outputs": [
    {
     "name": "stdout",
     "output_type": "stream",
     "text": [
      "ce0_t2: (-0.31944698577-0.20522836891j)\n"
     ]
    }
   ],
   "source": [
    "ce0_t2 = (-1j*cg0_t5*np.exp(1j*doff*t3)\n",
    "          *np.cos(ot2/2)\n",
    "          -ce1_t5*np.exp(1j*doff*t4)\n",
    "          *np.sin(ot2/2))\n",
    "print('ce0_t2:',ce0_t2)"
   ]
  },
  {
   "cell_type": "code",
   "execution_count": 42,
   "metadata": {},
   "outputs": [
    {
     "name": "stdout",
     "output_type": "stream",
     "text": [
      "g0_t1: (-0.286895130017+0.248709156436j)\n"
     ]
    }
   ],
   "source": [
    "g0_t1 = 1j*ce0_t2*np.exp(1j*doff*t1)\n",
    "print('g0_t1:',g0_t1)"
   ]
  },
  {
   "cell_type": "code",
   "execution_count": 43,
   "metadata": {},
   "outputs": [
    {
     "name": "stdout",
     "output_type": "stream",
     "text": [
      "0.0031415926535897933\n"
     ]
    }
   ],
   "source": [
    "print(t1)"
   ]
  },
  {
   "cell_type": "code",
   "execution_count": null,
   "metadata": {},
   "outputs": [],
   "source": []
  }
 ],
 "metadata": {
  "kernelspec": {
   "display_name": "Python 3",
   "language": "python",
   "name": "python3"
  },
  "language_info": {
   "codemirror_mode": {
    "name": "ipython",
    "version": 3
   },
   "file_extension": ".py",
   "mimetype": "text/x-python",
   "name": "python",
   "nbconvert_exporter": "python",
   "pygments_lexer": "ipython3",
   "version": "3.6.4"
  }
 },
 "nbformat": 4,
 "nbformat_minor": 2
}
