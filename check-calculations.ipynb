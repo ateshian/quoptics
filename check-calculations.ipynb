{
 "cells": [
  {
   "cell_type": "markdown",
   "metadata": {},
   "source": [
    "## Calculation of Time Intervals"
   ]
  },
  {
   "cell_type": "code",
   "execution_count": 2,
   "metadata": {},
   "outputs": [],
   "source": [
    "import numpy as np\n",
    "import matplotlib.pyplot as plt\n",
    "from qutip import *"
   ]
  },
  {
   "cell_type": "code",
   "execution_count": 3,
   "metadata": {},
   "outputs": [],
   "source": [
    "# Time dependent JC simulation of synthesis sequence\n",
    "doff = 2 * np.pi * (-463)    # MHz; off-resonance detuning\n",
    "wr = 2 * np.pi * 6570        # MHz; resonator frequency\n",
    "omq = 1000                   # MHz/2pi; qubit drive strength\n",
    "om = 2 * np.pi * 19          # MHz; coupling strength\n",
    "N = 4                        # number of cavity fock states\n",
    "\n",
    "# states\n",
    "ground = basis(2, 1)\n",
    "excited = basis(2, 0)\n",
    "vac = fock(N, 0)\n",
    "one = fock(N, 1)\n",
    "two = fock(N, 2)\n",
    "three = fock(N, 3)\n",
    "\n",
    "# target state = |g>(|1> + i|3>)\n",
    "target = tensor(ground, (one + 1j*three).unit())\n",
    "# initial state = |g>|0>\n",
    "psi0 = tensor(ground, vac)\n",
    "\n",
    "# operators\n",
    "a = tensor(qeye(2), destroy(N))\n",
    "sm = tensor(sigmam(), qeye(N))\n",
    "sz = tensor(sigmaz(), qeye(N))\n",
    "\n",
    "# hamiltonians\n",
    "H_swap = 0.5 * om * (sm * a.dag() + sm.dag() * a)         # on-resonance swap\n",
    "H_doff = doff * sm.dag() * sm           # off-resonance phase shift\n",
    "H_pulse = 0.5 * omq * (sm.dag() + sm)  # off-resonance qubit drive"
   ]
  },
  {
   "cell_type": "code",
   "execution_count": 24,
   "metadata": {},
   "outputs": [],
   "source": [
    "from numpy import pi, sqrt, cos, sin, arctan, exp"
   ]
  },
  {
   "cell_type": "code",
   "execution_count": 25,
   "metadata": {},
   "outputs": [
    {
     "name": "stdout",
     "output_type": "stream",
     "text": [
      "t8: 0.0151934281365691\n",
      "g1: 0.43571248704868193 \n",
      "e0: 0.556915279580164j \n",
      "e2: -0.7071067811865475\n"
     ]
    }
   ],
   "source": [
    "# t8: swap\n",
    "arg = pi/(2*sqrt(3))\n",
    "t8 = pi/(om * sqrt(3))\n",
    "print('t8:',t8)\n",
    "e2 = -1/sqrt(2)\n",
    "g1 = 1/sqrt(2) * cos(pi / (2 * sqrt(3)))\n",
    "e0 = 1j/sqrt(2) * sin(pi / (2 * sqrt(3)))\n",
    "print('g1:', g1, '\\ne0:', e0, '\\ne2:', e2)"
   ]
  },
  {
   "cell_type": "code",
   "execution_count": 19,
   "metadata": {},
   "outputs": [
    {
     "name": "stdout",
     "output_type": "stream",
     "text": [
      "t7: 0.0031415926535897933\n",
      "g0: -0.556915279580164 exp(i*doff*t7) \n",
      "g2: (-0-0.7071067811865475j) exp(i*doff*t7) \n",
      "e1: 0.43571248704868193j\n"
     ]
    }
   ],
   "source": [
    "# t7: pulse\n",
    "t7 = pi/omq\n",
    "print('t7:', t7)\n",
    "g0 = -1/sqrt(2) * sin(pi/(2*sqrt(3)))\n",
    "g2 = -1j/sqrt(2)\n",
    "e1 = 1j/sqrt(2) * cos(pi/(2*sqrt(3)))\n",
    "print('g0:', g0, 'exp(i*doff*t7)', '\\ng2:', g2, 'exp(i*doff*t7)', '\\ne1:', e1)"
   ]
  },
  {
   "cell_type": "code",
   "execution_count": 29,
   "metadata": {},
   "outputs": [
    {
     "name": "stdout",
     "output_type": "stream",
     "text": [
      "t6: 0.003681549457045517\n",
      "g0: (0.5343680710788288+0.15686106349678972j) \n",
      "g2: (-0.1991640843223585+0.6784789366782409j) \n",
      "e1: (-0.41807228098443483-0.12272301838945959j)\n"
     ]
    }
   ],
   "source": [
    "# t6: rotation\n",
    "# same as above, but with added phase shift of exp(i*doff*t6) to |e,1> term\n",
    "t6 = t7 - pi/(2*doff)\n",
    "print('t6:', t6)\n",
    "g0 = -exp(1j*doff*t7) * 1/sqrt(2) * sin(arg)\n",
    "g2 = -1j * exp(1j*doff*t7) * 1/sqrt(2)\n",
    "e1 = 1j/sqrt(2) * exp(1j*doff*t6) * cos(arg)\n",
    "print('g0:', g0, '\\ng2:', g2, '\\ne1:', e1)"
   ]
  },
  {
   "cell_type": "code",
   "execution_count": 31,
   "metadata": {},
   "outputs": [
    {
     "name": "stdout",
     "output_type": "stream",
     "text": [
      "t5: 0.01206609876842327\n",
      "e1: (-0.796942971387266-0.23393860674669148j) \n",
      "g0: (0.5343680710788288+0.15686106349678972j)\n"
     ]
    }
   ],
   "source": [
    "# t5: swap\n",
    "t5 = sqrt(2)/om * arctan(1 / cos(arg))\n",
    "print('t5:', t5)\n",
    "arg5 = om * t5 / sqrt(2)\n",
    "argd6 = 1j*doff*t6\n",
    "argd7 = 1j*doff*t7\n",
    "e1 = 1j/sqrt(2) * exp(argd6) * cos(arg) * cos(arg5) + 1/sqrt(2) * exp(argd7) * sin(arg5)\n",
    "g0 = -1/sqrt(2) * exp(argd7) * sin(arg)\n",
    "print('e1:', e1, '\\ng0:', g0)"
   ]
  },
  {
   "cell_type": "code",
   "execution_count": 36,
   "metadata": {},
   "outputs": [
    {
     "name": "stdout",
     "output_type": "stream",
     "text": [
      "t4: 0.0031415926535897933\n",
      "g1: (-0.4489347899821952+0.6987867526747985j) \n",
      "e0: (-0.15686106349678972+0.5343680710788288j)\n"
     ]
    }
   ],
   "source": [
    "# t4: pulse\n",
    "t4 = pi/omq\n",
    "argd4 = 1j*doff*t4\n",
    "print('t4:', t4)\n",
    "g1 = exp(argd4) * (-1/sqrt(2) * exp(argd6) * cos(arg) * cos(arg5) + 1j/sqrt(2) * exp(argd7) * sin(arg5))\n",
    "e0 = -1j/sqrt(2) * exp(argd7) * sin(arg)\n",
    "print('g1:', g1, '\\ne0:', e0)\n",
    "g1_t4 = g1\n",
    "e0_t4 = e0 # for use in next section"
   ]
  },
  {
   "cell_type": "code",
   "execution_count": 56,
   "metadata": {},
   "outputs": [
    {
     "name": "stdout",
     "output_type": "stream",
     "text": [
      "temp variable: (-1.4913746058560873-4.782031939657682e-17j)\n",
      "t3: 0.003681549457045517\n",
      "g1: (-0.4489347899821952+0.6987867526747985j) \n",
      "e0: (-0.4685521329992587-0.30102080873537146j)\n"
     ]
    }
   ],
   "source": [
    "# t3: rotate\n",
    "# swap condition:\n",
    "x = (-1/sqrt(2) * exp(argd6) * cos(arg) * cos(arg5) + 1j/sqrt(2) * exp(argd7) * sin(arg5)) / (-exp(argd7) * 1j/sqrt(2) * sin(arg))\n",
    "print('temp variable:', x)\n",
    "t3 = t4-pi/(2*doff)\n",
    "print('t3:', t3)\n",
    "argd3 = 1j*doff*t3\n",
    "g1 = exp(argd4) * (-1/sqrt(2) * exp(argd6) * cos(arg) * cos(arg5) + 1j/sqrt(2) * exp(argd7) * sin(arg5))\n",
    "e0 = -exp(argd3) * 1j/sqrt(2) * exp(argd7) * sin(arg)\n",
    "print('g1:', g1, '\\ne0:', e0)"
   ]
  },
  {
   "cell_type": "code",
   "execution_count": 61,
   "metadata": {},
   "outputs": [
    {
     "name": "stdout",
     "output_type": "stream",
     "text": [
      "t2: 0.01642025261264906\n",
      "e0: (-0.319446985769817-0.2052283689095043j)\n"
     ]
    }
   ],
   "source": [
    "# t2: swap\n",
    "# ignore imaginary part of x, since it's so small\n",
    "t2 = 2 / om * (arctan(-np.real(x)))\n",
    "arg2 = om * t2 / 2\n",
    "print('t2:', t2)\n",
    "c1 = exp(argd3) * exp(argd7) * 1j/sqrt(2) * sin(arg) * cos(arg2)\n",
    "c2 = 1j * exp(argd4) * (-1/sqrt(2) * exp(argd6) * cos(arg) * cos(arg5) + 1j/sqrt(2) * exp(argd7) * sin(arg5)) * sin(arg2)\n",
    "e0 = c1 + c2\n",
    "print('e0:', e0)\n",
    "ce0_t2 = e0"
   ]
  },
  {
   "cell_type": "code",
   "execution_count": 63,
   "metadata": {},
   "outputs": [
    {
     "name": "stdout",
     "output_type": "stream",
     "text": [
      "t1: 0.0031415926535897933\n",
      "g0: (-0.2868951300168535+0.2487091564363684j)\n"
     ]
    }
   ],
   "source": [
    "# t1: pulse\n",
    "t1 = pi / omq\n",
    "print('t1:', t1)\n",
    "argd1 = 1j*doff*t1\n",
    "g0 = 1j * exp(argd1) * ce0_t2\n",
    "print('g0:', g0)"
   ]
  },
  {
   "cell_type": "code",
   "execution_count": null,
   "metadata": {},
   "outputs": [],
   "source": []
  }
 ],
 "metadata": {
  "kernelspec": {
   "display_name": "Python 3",
   "language": "python",
   "name": "python3"
  },
  "language_info": {
   "codemirror_mode": {
    "name": "ipython",
    "version": 3
   },
   "file_extension": ".py",
   "mimetype": "text/x-python",
   "name": "python",
   "nbconvert_exporter": "python",
   "pygments_lexer": "ipython3",
   "version": "3.6.4"
  }
 },
 "nbformat": 4,
 "nbformat_minor": 2
}
